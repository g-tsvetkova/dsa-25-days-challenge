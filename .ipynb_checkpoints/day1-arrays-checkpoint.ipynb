{
 "cells": [
  {
   "cell_type": "markdown",
   "id": "d6f49b3b",
   "metadata": {},
   "source": [
    "# Sorted Squared Array\n",
    "\n",
    "You are given an array of Integers in which each subsequent value is not less than the previous value. Write a function that takes this array as an input and returns a new array with the squares of each number sorted in ascending order.\n",
    "\n",
    "Example 1:\n",
    "\n",
    "Input: nums = $[-4,-1,0,3,10]$ \\\n",
    "Output: $[0,1,9,16,100]$ \\\n",
    "Explanation: After squaring, the array becomes $[16,1,0,9,100]$.\\\n",
    "After sorting, it becomes $[0,1,9,16,100]$."
   ]
  },
  {
   "cell_type": "markdown",
   "id": "463c9c44",
   "metadata": {},
   "source": [
    "## Analysis\n",
    "\n",
    "I notice that the function must return a new array, therefore an out-of-place algorithm. We have a sorted array, which means that after squaring each element, the positive numbers preserve this property. However, for the case of negative numbers after the operation, their order is ascending (e.g. $[-4, -1] -> [1, 16]$). This motivates me to implement 2-step algorithm that first divides the arrays into two splits with positive and negative numbers and squares the numbers. Then having two sorted arrays reminds me of the merge strategy from merge sort. I will demonstrate why this is efficient for sorting:\n",
    "\n",
    "$ A: [a_{1}, a_{2}, a_{3}] \\\\\n",
    "B: [b_{1}, b_{2}, b_{3}, b_{4}]$\n",
    "\n",
    "Let's assume $a_{1} < b_{1}$, then we know that between $a_{1}$ and $b_{1}$, there could be other numbers from array A inbetween but if all $b_{i} > b_{1}$, then we cannot have a number from B filling that gap. Thus, we go and check the elements in A if they are less than $b_{1}$ because they for sure are bigger than $a_{1}$. Now, the merged array will start with $[a_{i}, b_{i},...]$. \n",
    "\n",
    "## Plan \n",
    "\n",
    "Pseudo Code:\n",
    "\n",
    "if left[i] < right[j] then left[i] for sure is less than any right[i] and we should proceed with \n",
    "left[i+1]: i++\n",
    "\n",
    "if left[i] > right[j] then right[j-1] for sure is less than any left[i] and we should proceed with \n",
    "right[j+1]: j++\n",
    "\n",
    "One of the arrays will still have elements that were not appended to the merged list so we have to append the remaining elements."
   ]
  },
  {
   "cell_type": "code",
   "execution_count": 8,
   "id": "6f6d7d1d",
   "metadata": {},
   "outputs": [],
   "source": [
    "# Implementation\n",
    "\n",
    "def sorted_squared_array(sorted_array) -> list:\n",
    "    \n",
    "    # split into positive and negative nums\n",
    "    left = [i*i for i in sorted_array if i < 0]\n",
    "    right = [i*i for i in sorted_array if i >= 0]\n",
    "    \n",
    "    # merge into sorted array\n",
    "    i, j = 0, 0\n",
    "    merged = []\n",
    "    while i < len(left) and j < len(right):\n",
    "        if left[i] < right[j]:\n",
    "            merged.append(left[i])\n",
    "            i += 1\n",
    "        \n",
    "        elif left[i] >= right[j]:\n",
    "            merged.append(right[j])\n",
    "            j += 1\n",
    "    \n",
    "    # append remaining elements from left or right\n",
    "    while i < len(left):\n",
    "        merged.append(left[i])\n",
    "        i += 1\n",
    "\n",
    "    while j < len(right):\n",
    "        merged.append(right[j])\n",
    "        j += 1\n",
    "    \n",
    "    return merged"
   ]
  },
  {
   "cell_type": "code",
   "execution_count": 13,
   "id": "adcf9142",
   "metadata": {},
   "outputs": [
    {
     "name": "stdout",
     "output_type": "stream",
     "text": [
      "[0, 1, 1, 4, 9]\n",
      "[1, 1, 9, 4, 25]\n"
     ]
    }
   ],
   "source": [
    "# Tests\n",
    "\n",
    "test1 = [-1, 0, 1, 2, 3,]\n",
    "\n",
    "print(sorted_squared_array(test1))\n",
    "\n",
    "test2 = [-3, -2, 1, 1, 5]\n",
    "print(sorted_squared_array(test2))\n"
   ]
  },
  {
   "cell_type": "markdown",
   "id": "e0f78395",
   "metadata": {},
   "source": [
    "## Evaluation\n",
    "\n",
    "$$O(n) + O(n) + O(n) = O(3n) = O(n)$$"
   ]
  }
 ],
 "metadata": {
  "kernelspec": {
   "display_name": "Python 3 (ipykernel)",
   "language": "python",
   "name": "python3"
  },
  "language_info": {
   "codemirror_mode": {
    "name": "ipython",
    "version": 3
   },
   "file_extension": ".py",
   "mimetype": "text/x-python",
   "name": "python",
   "nbconvert_exporter": "python",
   "pygments_lexer": "ipython3",
   "version": "3.9.13"
  }
 },
 "nbformat": 4,
 "nbformat_minor": 5
}
